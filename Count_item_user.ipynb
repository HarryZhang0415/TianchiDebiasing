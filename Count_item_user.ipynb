{
 "cells": [
  {
   "cell_type": "code",
   "execution_count": 1,
   "metadata": {},
   "outputs": [],
   "source": [
    "import pandas as pd\n",
    "import numpy as np"
   ]
  },
  {
   "cell_type": "code",
   "execution_count": 2,
   "metadata": {},
   "outputs": [],
   "source": [
    "click_columns = ['user_id','item_id','time']\n",
    "train_click_T = pd.DataFrame()\n",
    "test_click_T = pd.DataFrame()\n",
    "test_qtime_T = pd.DataFrame()\n",
    "\n",
    "\n",
    "# 第t个阶段，读取所有文件并合并\n",
    "t = 4\n",
    "for i in range(t):\n",
    "    temp_train_click = pd.read_csv('../data/underexpose_train/underexpose_train_click-%s.csv'%(str(i)),sep=',',names = click_columns )\n",
    "    temp_test_click = pd.read_csv('../data/underexpose_test/underexpose_test_click-%s.csv'%(str(i)),sep=',',names = click_columns)\n",
    "    temp_test_qtime = pd.read_csv('../data/underexpose_test/underexpose_test_qtime-%s.csv'%(str(i)),sep=',',names = ['user_id','time'])\n",
    "    train_click_T = train_click_T.append(temp_train_click)\n",
    "    test_click_T = test_click_T.append(temp_test_click)\n",
    "    test_qtime_T = test_qtime_T.append(temp_test_qtime)\n",
    "\n",
    "# 拼接所有历史点击数据\n",
    "data_click_T = pd.concat([train_click_T,test_click_T],axis = 0).reset_index(drop = True)\n",
    "\n",
    "\n",
    "# 计算所有商品的流行度-历史点击次数排序\n",
    "data_click_T_item = data_click_T.groupby('item_id',as_index= False)['user_id'].agg({'user_dis':'unique','click_cnt':'count'})\n",
    "data_click_T_item_rank = data_click_T_item.sort_values(by = 'click_cnt',axis = 0,ascending = False)['item_id'].tolist()"
   ]
  },
  {
   "cell_type": "code",
   "execution_count": 3,
   "metadata": {},
   "outputs": [],
   "source": [
    "whole_dataset = pd.concat([train_click_T,test_click_T]).reset_index(drop=True)"
   ]
  },
  {
   "cell_type": "code",
   "execution_count": 4,
   "metadata": {},
   "outputs": [
    {
     "output_type": "execute_result",
     "data": {
      "text/plain": "         user_id  item_id      time\n0           4965       18  0.983763\n1          20192       34  0.983772\n2          30128       91  0.983780\n3          29473      189  0.983930\n4          10625      225  0.983925\n...          ...      ...       ...\n1084190    34323   116409  0.983952\n1084191    23433   116550  0.984105\n1084192    11751   116908  0.984015\n1084193    12565   117502  0.984052\n1084194      454   117507  0.984118\n\n[1084195 rows x 3 columns]",
      "text/html": "<div>\n<style scoped>\n    .dataframe tbody tr th:only-of-type {\n        vertical-align: middle;\n    }\n\n    .dataframe tbody tr th {\n        vertical-align: top;\n    }\n\n    .dataframe thead th {\n        text-align: right;\n    }\n</style>\n<table border=\"1\" class=\"dataframe\">\n  <thead>\n    <tr style=\"text-align: right;\">\n      <th></th>\n      <th>user_id</th>\n      <th>item_id</th>\n      <th>time</th>\n    </tr>\n  </thead>\n  <tbody>\n    <tr>\n      <th>0</th>\n      <td>4965</td>\n      <td>18</td>\n      <td>0.983763</td>\n    </tr>\n    <tr>\n      <th>1</th>\n      <td>20192</td>\n      <td>34</td>\n      <td>0.983772</td>\n    </tr>\n    <tr>\n      <th>2</th>\n      <td>30128</td>\n      <td>91</td>\n      <td>0.983780</td>\n    </tr>\n    <tr>\n      <th>3</th>\n      <td>29473</td>\n      <td>189</td>\n      <td>0.983930</td>\n    </tr>\n    <tr>\n      <th>4</th>\n      <td>10625</td>\n      <td>225</td>\n      <td>0.983925</td>\n    </tr>\n    <tr>\n      <th>...</th>\n      <td>...</td>\n      <td>...</td>\n      <td>...</td>\n    </tr>\n    <tr>\n      <th>1084190</th>\n      <td>34323</td>\n      <td>116409</td>\n      <td>0.983952</td>\n    </tr>\n    <tr>\n      <th>1084191</th>\n      <td>23433</td>\n      <td>116550</td>\n      <td>0.984105</td>\n    </tr>\n    <tr>\n      <th>1084192</th>\n      <td>11751</td>\n      <td>116908</td>\n      <td>0.984015</td>\n    </tr>\n    <tr>\n      <th>1084193</th>\n      <td>12565</td>\n      <td>117502</td>\n      <td>0.984052</td>\n    </tr>\n    <tr>\n      <th>1084194</th>\n      <td>454</td>\n      <td>117507</td>\n      <td>0.984118</td>\n    </tr>\n  </tbody>\n</table>\n<p>1084195 rows × 3 columns</p>\n</div>"
     },
     "metadata": {},
     "execution_count": 4
    }
   ],
   "source": [
    "whole_dataset"
   ]
  },
  {
   "cell_type": "code",
   "execution_count": 8,
   "metadata": {},
   "outputs": [],
   "source": [
    "count_item = whole_dataset.groupby('user_id').count()"
   ]
  },
  {
   "cell_type": "code",
   "execution_count": 9,
   "metadata": {},
   "outputs": [
    {
     "output_type": "execute_result",
     "data": {
      "text/plain": "         item_count  time_count  user_id\nuser_id                                 \n1                49          49        1\n2                79          79        2\n3                36          36        3\n4                 9           9        4\n6                17          17        6\n...             ...         ...      ...\n35422            28          28    35422\n35424            10          10    35424\n35430             4           4    35430\n35434             8           8    35434\n35435             9           9    35435\n\n[26046 rows x 3 columns]",
      "text/html": "<div>\n<style scoped>\n    .dataframe tbody tr th:only-of-type {\n        vertical-align: middle;\n    }\n\n    .dataframe tbody tr th {\n        vertical-align: top;\n    }\n\n    .dataframe thead th {\n        text-align: right;\n    }\n</style>\n<table border=\"1\" class=\"dataframe\">\n  <thead>\n    <tr style=\"text-align: right;\">\n      <th></th>\n      <th>item_count</th>\n      <th>time_count</th>\n      <th>user_id</th>\n    </tr>\n    <tr>\n      <th>user_id</th>\n      <th></th>\n      <th></th>\n      <th></th>\n    </tr>\n  </thead>\n  <tbody>\n    <tr>\n      <th>1</th>\n      <td>49</td>\n      <td>49</td>\n      <td>1</td>\n    </tr>\n    <tr>\n      <th>2</th>\n      <td>79</td>\n      <td>79</td>\n      <td>2</td>\n    </tr>\n    <tr>\n      <th>3</th>\n      <td>36</td>\n      <td>36</td>\n      <td>3</td>\n    </tr>\n    <tr>\n      <th>4</th>\n      <td>9</td>\n      <td>9</td>\n      <td>4</td>\n    </tr>\n    <tr>\n      <th>6</th>\n      <td>17</td>\n      <td>17</td>\n      <td>6</td>\n    </tr>\n    <tr>\n      <th>...</th>\n      <td>...</td>\n      <td>...</td>\n      <td>...</td>\n    </tr>\n    <tr>\n      <th>35422</th>\n      <td>28</td>\n      <td>28</td>\n      <td>35422</td>\n    </tr>\n    <tr>\n      <th>35424</th>\n      <td>10</td>\n      <td>10</td>\n      <td>35424</td>\n    </tr>\n    <tr>\n      <th>35430</th>\n      <td>4</td>\n      <td>4</td>\n      <td>35430</td>\n    </tr>\n    <tr>\n      <th>35434</th>\n      <td>8</td>\n      <td>8</td>\n      <td>35434</td>\n    </tr>\n    <tr>\n      <th>35435</th>\n      <td>9</td>\n      <td>9</td>\n      <td>35435</td>\n    </tr>\n  </tbody>\n</table>\n<p>26046 rows × 3 columns</p>\n</div>"
     },
     "metadata": {},
     "execution_count": 9
    }
   ],
   "source": [
    "count_item.columns = ['item_count','time_count']\n",
    "count_item['user_id'] = count_item.index\n",
    "\n",
    "count_item"
   ]
  },
  {
   "cell_type": "code",
   "execution_count": 18,
   "metadata": {},
   "outputs": [
    {
     "output_type": "execute_result",
     "data": {
      "text/plain": "            time_count  user_id\nitem_count                     \n3                  933      933\n7                  744      744\n6                  723      723\n4                  707      707\n8                  692      692\n9                  676      676\n10                 618      618\n11                 604      604\n12                 575      575\n5                  569      569",
      "text/html": "<div>\n<style scoped>\n    .dataframe tbody tr th:only-of-type {\n        vertical-align: middle;\n    }\n\n    .dataframe tbody tr th {\n        vertical-align: top;\n    }\n\n    .dataframe thead th {\n        text-align: right;\n    }\n</style>\n<table border=\"1\" class=\"dataframe\">\n  <thead>\n    <tr style=\"text-align: right;\">\n      <th></th>\n      <th>time_count</th>\n      <th>user_id</th>\n    </tr>\n    <tr>\n      <th>item_count</th>\n      <th></th>\n      <th></th>\n    </tr>\n  </thead>\n  <tbody>\n    <tr>\n      <th>3</th>\n      <td>933</td>\n      <td>933</td>\n    </tr>\n    <tr>\n      <th>7</th>\n      <td>744</td>\n      <td>744</td>\n    </tr>\n    <tr>\n      <th>6</th>\n      <td>723</td>\n      <td>723</td>\n    </tr>\n    <tr>\n      <th>4</th>\n      <td>707</td>\n      <td>707</td>\n    </tr>\n    <tr>\n      <th>8</th>\n      <td>692</td>\n      <td>692</td>\n    </tr>\n    <tr>\n      <th>9</th>\n      <td>676</td>\n      <td>676</td>\n    </tr>\n    <tr>\n      <th>10</th>\n      <td>618</td>\n      <td>618</td>\n    </tr>\n    <tr>\n      <th>11</th>\n      <td>604</td>\n      <td>604</td>\n    </tr>\n    <tr>\n      <th>12</th>\n      <td>575</td>\n      <td>575</td>\n    </tr>\n    <tr>\n      <th>5</th>\n      <td>569</td>\n      <td>569</td>\n    </tr>\n  </tbody>\n</table>\n</div>"
     },
     "metadata": {},
     "execution_count": 18
    }
   ],
   "source": [
    "count_item.groupby('item_count').count().sort_values('user_id',ascending=False).head(10)"
   ]
  },
  {
   "cell_type": "code",
   "execution_count": 15,
   "metadata": {},
   "outputs": [
    {
     "output_type": "execute_result",
     "data": {
      "text/plain": "time_count    76.605882\nuser_id       76.605882\ndtype: float64"
     },
     "metadata": {},
     "execution_count": 15
    }
   ],
   "source": [
    "count_item.groupby('item_count').count().mean()"
   ]
  },
  {
   "cell_type": "code",
   "execution_count": null,
   "metadata": {},
   "outputs": [],
   "source": []
  }
 ],
 "metadata": {
  "language_info": {
   "codemirror_mode": {
    "name": "ipython",
    "version": 3
   },
   "file_extension": ".py",
   "mimetype": "text/x-python",
   "name": "python",
   "nbconvert_exporter": "python",
   "pygments_lexer": "ipython3",
   "version": "3.7.6-final"
  },
  "orig_nbformat": 2,
  "kernelspec": {
   "name": "python3",
   "display_name": "Python 3"
  }
 },
 "nbformat": 4,
 "nbformat_minor": 2
}