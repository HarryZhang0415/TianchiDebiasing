{
 "cells": [
  {
   "cell_type": "code",
   "execution_count": 1,
   "metadata": {},
   "outputs": [],
   "source": [
    "import pandas as pd\n",
    "import numpy as np"
   ]
  },
  {
   "cell_type": "code",
   "execution_count": 2,
   "metadata": {},
   "outputs": [
    {
     "output_type": "execute_result",
     "data": {
      "text/plain": "   user_id   pre2   pre1  item_id\n0     4965  33354  43218       18\n1     4965  43218     18    66446\n2     4965     18  66446     3598\n3     4965  66446   3598    55956\n4     4965   3598  55956    93772",
      "text/html": "<div>\n<style scoped>\n    .dataframe tbody tr th:only-of-type {\n        vertical-align: middle;\n    }\n\n    .dataframe tbody tr th {\n        vertical-align: top;\n    }\n\n    .dataframe thead th {\n        text-align: right;\n    }\n</style>\n<table border=\"1\" class=\"dataframe\">\n  <thead>\n    <tr style=\"text-align: right;\">\n      <th></th>\n      <th>user_id</th>\n      <th>pre2</th>\n      <th>pre1</th>\n      <th>item_id</th>\n    </tr>\n  </thead>\n  <tbody>\n    <tr>\n      <th>0</th>\n      <td>4965</td>\n      <td>33354</td>\n      <td>43218</td>\n      <td>18</td>\n    </tr>\n    <tr>\n      <th>1</th>\n      <td>4965</td>\n      <td>43218</td>\n      <td>18</td>\n      <td>66446</td>\n    </tr>\n    <tr>\n      <th>2</th>\n      <td>4965</td>\n      <td>18</td>\n      <td>66446</td>\n      <td>3598</td>\n    </tr>\n    <tr>\n      <th>3</th>\n      <td>4965</td>\n      <td>66446</td>\n      <td>3598</td>\n      <td>55956</td>\n    </tr>\n    <tr>\n      <th>4</th>\n      <td>4965</td>\n      <td>3598</td>\n      <td>55956</td>\n      <td>93772</td>\n    </tr>\n  </tbody>\n</table>\n</div>"
     },
     "metadata": {},
     "execution_count": 2
    }
   ],
   "source": [
    "data = pd.read_csv('semi-data-for-training.csv')\n",
    "data.head()"
   ]
  },
  {
   "cell_type": "code",
   "execution_count": 8,
   "metadata": {},
   "outputs": [
    {
     "output_type": "execute_result",
     "data": {
      "text/plain": "   user_id  user_age_level  user_gender  user_city_level\n0       17             8.0            0              4.0\n1       26             7.0            0              2.0\n2       35             6.0            1              4.0\n3       40             6.0            0              1.0\n4       49             6.0            0              1.0",
      "text/html": "<div>\n<style scoped>\n    .dataframe tbody tr th:only-of-type {\n        vertical-align: middle;\n    }\n\n    .dataframe tbody tr th {\n        vertical-align: top;\n    }\n\n    .dataframe thead th {\n        text-align: right;\n    }\n</style>\n<table border=\"1\" class=\"dataframe\">\n  <thead>\n    <tr style=\"text-align: right;\">\n      <th></th>\n      <th>user_id</th>\n      <th>user_age_level</th>\n      <th>user_gender</th>\n      <th>user_city_level</th>\n    </tr>\n  </thead>\n  <tbody>\n    <tr>\n      <th>0</th>\n      <td>17</td>\n      <td>8.0</td>\n      <td>0</td>\n      <td>4.0</td>\n    </tr>\n    <tr>\n      <th>1</th>\n      <td>26</td>\n      <td>7.0</td>\n      <td>0</td>\n      <td>2.0</td>\n    </tr>\n    <tr>\n      <th>2</th>\n      <td>35</td>\n      <td>6.0</td>\n      <td>1</td>\n      <td>4.0</td>\n    </tr>\n    <tr>\n      <th>3</th>\n      <td>40</td>\n      <td>6.0</td>\n      <td>0</td>\n      <td>1.0</td>\n    </tr>\n    <tr>\n      <th>4</th>\n      <td>49</td>\n      <td>6.0</td>\n      <td>0</td>\n      <td>1.0</td>\n    </tr>\n  </tbody>\n</table>\n</div>"
     },
     "metadata": {},
     "execution_count": 8
    }
   ],
   "source": [
    "user_feat = pd.read_csv('underexpose_user_feat.csv')\n",
    "item_feat = pd.read_csv('underexpose_item_feat.csv',header=None)\n",
    "\n",
    "user_feat.head()"
   ]
  },
  {
   "cell_type": "code",
   "execution_count": 46,
   "metadata": {
    "tags": [
     "outputPrepend",
     "outputPrepend",
     "outputPrepend",
     "outputPrepend",
     "outputPrepend",
     "outputPrepend",
     "outputPrepend",
     "outputPrepend",
     "outputPrepend",
     "outputPrepend",
     "outputPrepend",
     "outputPrepend",
     "outputPrepend",
     "outputPrepend",
     "outputPrepend",
     "outputPrepend",
     "outputPrepend",
     "outputPrepend",
     "outputPrepend",
     "outputPrepend",
     "outputPrepend",
     "outputPrepend",
     "outputPrepend",
     "outputPrepend",
     "outputPrepend",
     "outputPrepend",
     "outputPrepend",
     "outputPrepend",
     "outputPrepend",
     "outputPrepend",
     "outputPrepend",
     "outputPrepend",
     "outputPrepend",
     "outputPrepend",
     "outputPrepend",
     "outputPrepend",
     "outputPrepend",
     "outputPrepend",
     "outputPrepend",
     "outputPrepend",
     "outputPrepend",
     "outputPrepend",
     "outputPrepend",
     "outputPrepend",
     "outputPrepend",
     "outputPrepend",
     "outputPrepend",
     "outputPrepend",
     "outputPrepend",
     "outputPrepend",
     "outputPrepend",
     "outputPrepend",
     "outputPrepend",
     "outputPrepend",
     "outputPrepend",
     "outputPrepend",
     "outputPrepend",
     "outputPrepend",
     "outputPrepend",
     "outputPrepend",
     "outputPrepend",
     "outputPrepend",
     "outputPrepend",
     "outputPrepend",
     "outputPrepend",
     "outputPrepend",
     "outputPrepend",
     "outputPrepend",
     "outputPrepend",
     "outputPrepend",
     "outputPrepend",
     "outputPrepend",
     "outputPrepend",
     "outputPrepend",
     "outputPrepend",
     "outputPrepend",
     "outputPrepend",
     "outputPrepend",
     "outputPrepend",
     "outputPrepend",
     "outputPrepend",
     "outputPrepend",
     "outputPrepend",
     "outputPrepend",
     "outputPrepend",
     "outputPrepend",
     "outputPrepend",
     "outputPrepend",
     "outputPrepend",
     "outputPrepend",
     "outputPrepend",
     "outputPrepend",
     "outputPrepend",
     "outputPrepend",
     "outputPrepend",
     "outputPrepend",
     "outputPrepend",
     "outputPrepend",
     "outputPrepend",
     "outputPrepend",
     "outputPrepend",
     "outputPrepend",
     "outputPrepend",
     "outputPrepend",
     "outputPrepend",
     "outputPrepend"
    ]
   },
   "outputs": [
    {
     "output_type": "stream",
     "name": "stderr",
     "text": "100%|██████████| 1032103/1032103 [23:40:55<00:00, 12.11it/s]\n"
    }
   ],
   "source": [
    "import tqdm\n",
    "\n",
    "data_vec = pd.DataFrame()\n",
    "\n",
    "for r in tqdm.tqdm(range(data.shape[0])):\n",
    "    try:\n",
    "        vec = []\n",
    "        for c in range(data.shape[1]):\n",
    "            repre = data.iloc[r,c]\n",
    "            if c == 0:\n",
    "                vec.extend(user_feat[user_feat['user_id'] == repre].iloc[0,1:])\n",
    "                continue\n",
    "            vec.extend(item_feat[item_feat[0] == repre].iloc[0,1:])\n",
    "    \n",
    "        data_vec = data_vec.append([vec])\n",
    "    except:\n",
    "        continue"
   ]
  },
  {
   "cell_type": "code",
   "execution_count": 47,
   "metadata": {},
   "outputs": [],
   "source": [
    "data_vec.to_csv('data_vec.csv',index=False)"
   ]
  },
  {
   "cell_type": "code",
   "execution_count": 49,
   "metadata": {},
   "outputs": [
    {
     "output_type": "execute_result",
     "data": {
      "text/plain": "   0    1    2         3         4         5         6         7         8    \\\n0  3.0  1.0  1.0  4.215895 -1.392820 -1.241021 -2.584313 -2.525783 -0.096694   \n0  3.0  1.0  1.0  0.009234 -2.724820  0.983629  1.684950 -2.240078  0.234152   \n0  3.0  1.0  1.0  1.421882 -0.871056  2.178429 -2.843787  0.867252 -0.337896   \n0  3.0  1.0  1.0  0.306586  1.315847  1.488656 -3.580307 -0.417814 -0.421673   \n0  3.0  1.0  1.0  2.150902 -0.387625  1.704715 -2.483915 -2.489214 -0.569212   \n0  3.0  1.0  1.0  3.892584 -0.125650  1.274977 -1.880786 -3.520007  3.613692   \n0  3.0  1.0  1.0  4.436140 -1.567838 -0.022691 -3.740171 -2.667510  1.178505   \n0  3.0  1.0  1.0  3.274932  0.846613  1.783299 -2.302307 -2.335127  3.247473   \n0  7.0  1.0  5.0 -3.115322  1.290720  0.949073 -0.836834  0.134762 -2.885903   \n0  7.0  0.0  1.0  3.702031 -2.550309 -0.028946 -3.847799 -1.329834  2.759850   \n\n        9    ...       761       762       763       764       765       766  \\\n0  1.136693  ... -2.353414 -1.609719  0.778836 -1.319712 -2.435809 -0.312892   \n0 -0.922217  ...  0.812199 -3.133069 -1.011007 -1.783266  0.435043  1.216733   \n0 -1.934934  ... -1.933543 -0.868623  1.797225 -1.993290 -0.922938  1.605792   \n0 -1.428810  ...  0.314448 -2.999248  0.685335 -3.006072  1.384415  0.009467   \n0 -1.489195  ... -5.589011  0.480841  0.494066  1.058598  4.585638  1.591567   \n0  2.117214  ... -1.216690 -2.741566 -1.277149 -3.822036  2.367967  0.732477   \n0 -0.264708  ... -0.607205 -2.380601 -0.367996 -4.797455  2.828649  1.045513   \n0  0.986510  ... -3.152927  0.042235  0.295107 -2.454178  0.495967  1.028947   \n0  1.637173  ...  0.123585 -2.373678  1.375858 -1.501869 -1.361281 -1.213530   \n0 -0.220626  ... -0.568110 -0.852621  4.077159 -1.332541  0.898502 -2.770210   \n\n        767       768       769       770  \n0 -1.930452  0.735900  2.150393 -0.947558  \n0  0.951005  2.071374  3.636741 -0.148242  \n0 -0.356798  1.339684  0.266061 -1.297173  \n0  1.442873  4.121430  3.931894 -0.017420  \n0  1.547586  1.891357  2.174059  3.562259  \n0 -0.632967  3.206359  3.016284  0.988815  \n0 -0.006030  3.531597  3.440431  0.376408  \n0 -1.602081  1.512568  0.580555  0.002547  \n0  0.533046  2.606283  3.954227  3.101225  \n0  3.256005  4.090706  1.746262  0.559244  \n\n[10 rows x 771 columns]",
      "text/html": "<div>\n<style scoped>\n    .dataframe tbody tr th:only-of-type {\n        vertical-align: middle;\n    }\n\n    .dataframe tbody tr th {\n        vertical-align: top;\n    }\n\n    .dataframe thead th {\n        text-align: right;\n    }\n</style>\n<table border=\"1\" class=\"dataframe\">\n  <thead>\n    <tr style=\"text-align: right;\">\n      <th></th>\n      <th>0</th>\n      <th>1</th>\n      <th>2</th>\n      <th>3</th>\n      <th>4</th>\n      <th>5</th>\n      <th>6</th>\n      <th>7</th>\n      <th>8</th>\n      <th>9</th>\n      <th>...</th>\n      <th>761</th>\n      <th>762</th>\n      <th>763</th>\n      <th>764</th>\n      <th>765</th>\n      <th>766</th>\n      <th>767</th>\n      <th>768</th>\n      <th>769</th>\n      <th>770</th>\n    </tr>\n  </thead>\n  <tbody>\n    <tr>\n      <th>0</th>\n      <td>3.0</td>\n      <td>1.0</td>\n      <td>1.0</td>\n      <td>4.215895</td>\n      <td>-1.392820</td>\n      <td>-1.241021</td>\n      <td>-2.584313</td>\n      <td>-2.525783</td>\n      <td>-0.096694</td>\n      <td>1.136693</td>\n      <td>...</td>\n      <td>-2.353414</td>\n      <td>-1.609719</td>\n      <td>0.778836</td>\n      <td>-1.319712</td>\n      <td>-2.435809</td>\n      <td>-0.312892</td>\n      <td>-1.930452</td>\n      <td>0.735900</td>\n      <td>2.150393</td>\n      <td>-0.947558</td>\n    </tr>\n    <tr>\n      <th>0</th>\n      <td>3.0</td>\n      <td>1.0</td>\n      <td>1.0</td>\n      <td>0.009234</td>\n      <td>-2.724820</td>\n      <td>0.983629</td>\n      <td>1.684950</td>\n      <td>-2.240078</td>\n      <td>0.234152</td>\n      <td>-0.922217</td>\n      <td>...</td>\n      <td>0.812199</td>\n      <td>-3.133069</td>\n      <td>-1.011007</td>\n      <td>-1.783266</td>\n      <td>0.435043</td>\n      <td>1.216733</td>\n      <td>0.951005</td>\n      <td>2.071374</td>\n      <td>3.636741</td>\n      <td>-0.148242</td>\n    </tr>\n    <tr>\n      <th>0</th>\n      <td>3.0</td>\n      <td>1.0</td>\n      <td>1.0</td>\n      <td>1.421882</td>\n      <td>-0.871056</td>\n      <td>2.178429</td>\n      <td>-2.843787</td>\n      <td>0.867252</td>\n      <td>-0.337896</td>\n      <td>-1.934934</td>\n      <td>...</td>\n      <td>-1.933543</td>\n      <td>-0.868623</td>\n      <td>1.797225</td>\n      <td>-1.993290</td>\n      <td>-0.922938</td>\n      <td>1.605792</td>\n      <td>-0.356798</td>\n      <td>1.339684</td>\n      <td>0.266061</td>\n      <td>-1.297173</td>\n    </tr>\n    <tr>\n      <th>0</th>\n      <td>3.0</td>\n      <td>1.0</td>\n      <td>1.0</td>\n      <td>0.306586</td>\n      <td>1.315847</td>\n      <td>1.488656</td>\n      <td>-3.580307</td>\n      <td>-0.417814</td>\n      <td>-0.421673</td>\n      <td>-1.428810</td>\n      <td>...</td>\n      <td>0.314448</td>\n      <td>-2.999248</td>\n      <td>0.685335</td>\n      <td>-3.006072</td>\n      <td>1.384415</td>\n      <td>0.009467</td>\n      <td>1.442873</td>\n      <td>4.121430</td>\n      <td>3.931894</td>\n      <td>-0.017420</td>\n    </tr>\n    <tr>\n      <th>0</th>\n      <td>3.0</td>\n      <td>1.0</td>\n      <td>1.0</td>\n      <td>2.150902</td>\n      <td>-0.387625</td>\n      <td>1.704715</td>\n      <td>-2.483915</td>\n      <td>-2.489214</td>\n      <td>-0.569212</td>\n      <td>-1.489195</td>\n      <td>...</td>\n      <td>-5.589011</td>\n      <td>0.480841</td>\n      <td>0.494066</td>\n      <td>1.058598</td>\n      <td>4.585638</td>\n      <td>1.591567</td>\n      <td>1.547586</td>\n      <td>1.891357</td>\n      <td>2.174059</td>\n      <td>3.562259</td>\n    </tr>\n    <tr>\n      <th>0</th>\n      <td>3.0</td>\n      <td>1.0</td>\n      <td>1.0</td>\n      <td>3.892584</td>\n      <td>-0.125650</td>\n      <td>1.274977</td>\n      <td>-1.880786</td>\n      <td>-3.520007</td>\n      <td>3.613692</td>\n      <td>2.117214</td>\n      <td>...</td>\n      <td>-1.216690</td>\n      <td>-2.741566</td>\n      <td>-1.277149</td>\n      <td>-3.822036</td>\n      <td>2.367967</td>\n      <td>0.732477</td>\n      <td>-0.632967</td>\n      <td>3.206359</td>\n      <td>3.016284</td>\n      <td>0.988815</td>\n    </tr>\n    <tr>\n      <th>0</th>\n      <td>3.0</td>\n      <td>1.0</td>\n      <td>1.0</td>\n      <td>4.436140</td>\n      <td>-1.567838</td>\n      <td>-0.022691</td>\n      <td>-3.740171</td>\n      <td>-2.667510</td>\n      <td>1.178505</td>\n      <td>-0.264708</td>\n      <td>...</td>\n      <td>-0.607205</td>\n      <td>-2.380601</td>\n      <td>-0.367996</td>\n      <td>-4.797455</td>\n      <td>2.828649</td>\n      <td>1.045513</td>\n      <td>-0.006030</td>\n      <td>3.531597</td>\n      <td>3.440431</td>\n      <td>0.376408</td>\n    </tr>\n    <tr>\n      <th>0</th>\n      <td>3.0</td>\n      <td>1.0</td>\n      <td>1.0</td>\n      <td>3.274932</td>\n      <td>0.846613</td>\n      <td>1.783299</td>\n      <td>-2.302307</td>\n      <td>-2.335127</td>\n      <td>3.247473</td>\n      <td>0.986510</td>\n      <td>...</td>\n      <td>-3.152927</td>\n      <td>0.042235</td>\n      <td>0.295107</td>\n      <td>-2.454178</td>\n      <td>0.495967</td>\n      <td>1.028947</td>\n      <td>-1.602081</td>\n      <td>1.512568</td>\n      <td>0.580555</td>\n      <td>0.002547</td>\n    </tr>\n    <tr>\n      <th>0</th>\n      <td>7.0</td>\n      <td>1.0</td>\n      <td>5.0</td>\n      <td>-3.115322</td>\n      <td>1.290720</td>\n      <td>0.949073</td>\n      <td>-0.836834</td>\n      <td>0.134762</td>\n      <td>-2.885903</td>\n      <td>1.637173</td>\n      <td>...</td>\n      <td>0.123585</td>\n      <td>-2.373678</td>\n      <td>1.375858</td>\n      <td>-1.501869</td>\n      <td>-1.361281</td>\n      <td>-1.213530</td>\n      <td>0.533046</td>\n      <td>2.606283</td>\n      <td>3.954227</td>\n      <td>3.101225</td>\n    </tr>\n    <tr>\n      <th>0</th>\n      <td>7.0</td>\n      <td>0.0</td>\n      <td>1.0</td>\n      <td>3.702031</td>\n      <td>-2.550309</td>\n      <td>-0.028946</td>\n      <td>-3.847799</td>\n      <td>-1.329834</td>\n      <td>2.759850</td>\n      <td>-0.220626</td>\n      <td>...</td>\n      <td>-0.568110</td>\n      <td>-0.852621</td>\n      <td>4.077159</td>\n      <td>-1.332541</td>\n      <td>0.898502</td>\n      <td>-2.770210</td>\n      <td>3.256005</td>\n      <td>4.090706</td>\n      <td>1.746262</td>\n      <td>0.559244</td>\n    </tr>\n  </tbody>\n</table>\n<p>10 rows × 771 columns</p>\n</div>"
     },
     "metadata": {},
     "execution_count": 49
    }
   ],
   "source": [
    "data_vec.tail(10)"
   ]
  }
 ],
 "metadata": {
  "language_info": {
   "codemirror_mode": {
    "name": "ipython",
    "version": 3
   },
   "file_extension": ".py",
   "mimetype": "text/x-python",
   "name": "python",
   "nbconvert_exporter": "python",
   "pygments_lexer": "ipython3",
   "version": "3.7.6-final"
  },
  "orig_nbformat": 2,
  "kernelspec": {
   "name": "python3",
   "display_name": "Python 3"
  }
 },
 "nbformat": 4,
 "nbformat_minor": 2
}