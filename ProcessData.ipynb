{
 "cells": [
  {
   "cell_type": "code",
   "execution_count": 1,
   "metadata": {},
   "outputs": [],
   "source": [
    "import pandas as pd\n",
    "import numpy as np"
   ]
  },
  {
   "cell_type": "code",
   "execution_count": 2,
   "metadata": {},
   "outputs": [],
   "source": [
    "click_columns = ['user_id','item_id','time']\n",
    "train_click_T = pd.DataFrame()\n",
    "test_click_T = pd.DataFrame()\n",
    "test_qtime_T = pd.DataFrame()\n",
    "\n",
    "\n",
    "# 第t个阶段，读取所有文件并合并\n",
    "t = 4\n",
    "for i in range(t):\n",
    "    temp_train_click = pd.read_csv('../data/underexpose_train/underexpose_train_click-%s.csv'%(str(i)),sep=',',names = click_columns )\n",
    "    temp_test_click = pd.read_csv('../data/underexpose_test/underexpose_test_click-%s.csv'%(str(i)),sep=',',names = click_columns)\n",
    "    temp_test_qtime = pd.read_csv('../data/underexpose_test/underexpose_test_qtime-%s.csv'%(str(i)),sep=',',names = ['user_id','time'])\n",
    "    train_click_T = train_click_T.append(temp_train_click)\n",
    "    test_click_T = test_click_T.append(temp_test_click)\n",
    "    test_qtime_T = test_qtime_T.append(temp_test_qtime)\n",
    "\n",
    "# 拼接所有历史点击数据\n",
    "data_click_T = pd.concat([train_click_T,test_click_T],axis = 0).reset_index(drop = True)\n",
    "\n",
    "\n",
    "# 计算所有商品的流行度-历史点击次数排序\n",
    "data_click_T_item = data_click_T.groupby('item_id',as_index= False)['user_id'].agg({'user_dis':'unique','click_cnt':'count'})\n",
    "data_click_T_item_rank = data_click_T_item.sort_values(by = 'click_cnt',axis = 0,ascending = False)['item_id'].tolist()"
   ]
  },
  {
   "cell_type": "code",
   "execution_count": 3,
   "metadata": {},
   "outputs": [],
   "source": [
    "whole_dataset = pd.concat([train_click_T,test_click_T]).reset_index(drop=True)"
   ]
  },
  {
   "cell_type": "code",
   "execution_count": 4,
   "metadata": {},
   "outputs": [
    {
     "output_type": "execute_result",
     "data": {
      "text/plain": "   user_id  item_id      time\n0     4965       18  0.983763\n1    20192       34  0.983772\n2    30128       91  0.983780\n3    29473      189  0.983930\n4    10625      225  0.983925\n5     2426      233  0.983937\n6     4043      253  0.983954\n7    19451      258  0.983895\n8     7944      264  0.983852\n9    14329      264  0.983939",
      "text/html": "<div>\n<style scoped>\n    .dataframe tbody tr th:only-of-type {\n        vertical-align: middle;\n    }\n\n    .dataframe tbody tr th {\n        vertical-align: top;\n    }\n\n    .dataframe thead th {\n        text-align: right;\n    }\n</style>\n<table border=\"1\" class=\"dataframe\">\n  <thead>\n    <tr style=\"text-align: right;\">\n      <th></th>\n      <th>user_id</th>\n      <th>item_id</th>\n      <th>time</th>\n    </tr>\n  </thead>\n  <tbody>\n    <tr>\n      <th>0</th>\n      <td>4965</td>\n      <td>18</td>\n      <td>0.983763</td>\n    </tr>\n    <tr>\n      <th>1</th>\n      <td>20192</td>\n      <td>34</td>\n      <td>0.983772</td>\n    </tr>\n    <tr>\n      <th>2</th>\n      <td>30128</td>\n      <td>91</td>\n      <td>0.983780</td>\n    </tr>\n    <tr>\n      <th>3</th>\n      <td>29473</td>\n      <td>189</td>\n      <td>0.983930</td>\n    </tr>\n    <tr>\n      <th>4</th>\n      <td>10625</td>\n      <td>225</td>\n      <td>0.983925</td>\n    </tr>\n    <tr>\n      <th>5</th>\n      <td>2426</td>\n      <td>233</td>\n      <td>0.983937</td>\n    </tr>\n    <tr>\n      <th>6</th>\n      <td>4043</td>\n      <td>253</td>\n      <td>0.983954</td>\n    </tr>\n    <tr>\n      <th>7</th>\n      <td>19451</td>\n      <td>258</td>\n      <td>0.983895</td>\n    </tr>\n    <tr>\n      <th>8</th>\n      <td>7944</td>\n      <td>264</td>\n      <td>0.983852</td>\n    </tr>\n    <tr>\n      <th>9</th>\n      <td>14329</td>\n      <td>264</td>\n      <td>0.983939</td>\n    </tr>\n  </tbody>\n</table>\n</div>"
     },
     "metadata": {},
     "execution_count": 4
    }
   ],
   "source": [
    "whole_dataset.head(10)"
   ]
  },
  {
   "cell_type": "code",
   "execution_count": 5,
   "metadata": {},
   "outputs": [
    {
     "output_type": "stream",
     "name": "stderr",
     "text": "100%|██████████| 26046/26046 [05:43<00:00, 75.80it/s]\n"
    }
   ],
   "source": [
    "final_data = pd.DataFrame()\n",
    "\n",
    "import tqdm\n",
    "\n",
    "for user_id in tqdm.tqdm(whole_dataset['user_id'].unique()):\n",
    "    try:\n",
    "        user_order = whole_dataset[whole_dataset['user_id'] == user_id].sort_values('time',ascending=True)\n",
    "        user_order['pre1'] = user_order['item_id'].shift(1)\n",
    "        user_order['pre2'] = user_order['item_id'].shift(2)\n",
    "        user_order = user_order[['user_id','pre2','pre1','item_id']].iloc[2:,:].astype('int')\n",
    "        final_data = final_data.append(user_order)\n",
    "    except:\n",
    "        continue"
   ]
  },
  {
   "cell_type": "code",
   "execution_count": 7,
   "metadata": {},
   "outputs": [
    {
     "output_type": "execute_result",
     "data": {
      "text/plain": "         user_id   pre2    pre1  item_id\n0           4965  33354   43218       18\n1           4965  43218      18    66446\n2           4965     18   66446     3598\n3           4965  66446    3598    55956\n4           4965   3598   55956    93772\n...          ...    ...     ...      ...\n1032098    25116  48858  104429    74432\n1032099    31056   6082    8772    14576\n1032100    31056   8772   14576   110049\n1032101      663   9210   95210    16835\n1032102     6823  69453   43734   104268\n\n[1032103 rows x 4 columns]",
      "text/html": "<div>\n<style scoped>\n    .dataframe tbody tr th:only-of-type {\n        vertical-align: middle;\n    }\n\n    .dataframe tbody tr th {\n        vertical-align: top;\n    }\n\n    .dataframe thead th {\n        text-align: right;\n    }\n</style>\n<table border=\"1\" class=\"dataframe\">\n  <thead>\n    <tr style=\"text-align: right;\">\n      <th></th>\n      <th>user_id</th>\n      <th>pre2</th>\n      <th>pre1</th>\n      <th>item_id</th>\n    </tr>\n  </thead>\n  <tbody>\n    <tr>\n      <th>0</th>\n      <td>4965</td>\n      <td>33354</td>\n      <td>43218</td>\n      <td>18</td>\n    </tr>\n    <tr>\n      <th>1</th>\n      <td>4965</td>\n      <td>43218</td>\n      <td>18</td>\n      <td>66446</td>\n    </tr>\n    <tr>\n      <th>2</th>\n      <td>4965</td>\n      <td>18</td>\n      <td>66446</td>\n      <td>3598</td>\n    </tr>\n    <tr>\n      <th>3</th>\n      <td>4965</td>\n      <td>66446</td>\n      <td>3598</td>\n      <td>55956</td>\n    </tr>\n    <tr>\n      <th>4</th>\n      <td>4965</td>\n      <td>3598</td>\n      <td>55956</td>\n      <td>93772</td>\n    </tr>\n    <tr>\n      <th>...</th>\n      <td>...</td>\n      <td>...</td>\n      <td>...</td>\n      <td>...</td>\n    </tr>\n    <tr>\n      <th>1032098</th>\n      <td>25116</td>\n      <td>48858</td>\n      <td>104429</td>\n      <td>74432</td>\n    </tr>\n    <tr>\n      <th>1032099</th>\n      <td>31056</td>\n      <td>6082</td>\n      <td>8772</td>\n      <td>14576</td>\n    </tr>\n    <tr>\n      <th>1032100</th>\n      <td>31056</td>\n      <td>8772</td>\n      <td>14576</td>\n      <td>110049</td>\n    </tr>\n    <tr>\n      <th>1032101</th>\n      <td>663</td>\n      <td>9210</td>\n      <td>95210</td>\n      <td>16835</td>\n    </tr>\n    <tr>\n      <th>1032102</th>\n      <td>6823</td>\n      <td>69453</td>\n      <td>43734</td>\n      <td>104268</td>\n    </tr>\n  </tbody>\n</table>\n<p>1032103 rows × 4 columns</p>\n</div>"
     },
     "metadata": {},
     "execution_count": 7
    }
   ],
   "source": [
    "final_data = final_data.reset_index(drop=True)\n",
    "final_data"
   ]
  },
  {
   "cell_type": "code",
   "execution_count": 8,
   "metadata": {},
   "outputs": [],
   "source": [
    "final_data.to_csv('semi-data-for-training.csv',index=False)"
   ]
  },
  {
   "cell_type": "code",
   "execution_count": null,
   "metadata": {},
   "outputs": [],
   "source": []
  }
 ],
 "metadata": {
  "language_info": {
   "codemirror_mode": {
    "name": "ipython",
    "version": 3
   },
   "file_extension": ".py",
   "mimetype": "text/x-python",
   "name": "python",
   "nbconvert_exporter": "python",
   "pygments_lexer": "ipython3",
   "version": "3.7.6-final"
  },
  "orig_nbformat": 2,
  "kernelspec": {
   "name": "python3",
   "display_name": "Python 3"
  }
 },
 "nbformat": 4,
 "nbformat_minor": 2
}