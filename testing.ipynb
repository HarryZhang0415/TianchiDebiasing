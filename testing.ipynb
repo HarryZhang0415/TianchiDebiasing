{
 "cells": [
  {
   "cell_type": "code",
   "execution_count": 1,
   "metadata": {},
   "outputs": [],
   "source": [
    "import pandas as pd\n",
    "import numpy as np\n",
    "\n",
    "click_columns = ['user_id','item_id','time']\n",
    "train_click_T = pd.DataFrame()\n",
    "test_click_T = pd.DataFrame()\n",
    "test_qtime_T = pd.DataFrame()\n",
    "\n",
    "\n",
    "# 第t个阶段，读取所有文件并合并\n",
    "t = 4\n",
    "for i in range(t):\n",
    "    temp_train_click = pd.read_csv('../data/underexpose_train/underexpose_train_click-%s.csv'%(str(i)),sep=',',names = click_columns )\n",
    "    temp_test_click = pd.read_csv('../data/underexpose_test/underexpose_test_click-%s.csv'%(str(i)),sep=',',names = click_columns)\n",
    "    temp_test_qtime = pd.read_csv('../data/underexpose_test/underexpose_test_qtime-%s.csv'%(str(i)),sep=',',names = ['user_id','time'])\n",
    "    train_click_T = train_click_T.append(temp_train_click)\n",
    "    test_click_T = test_click_T.append(temp_test_click)\n",
    "    test_qtime_T = test_qtime_T.append(temp_test_qtime)"
   ]
  },
  {
   "cell_type": "code",
   "execution_count": 2,
   "metadata": {},
   "outputs": [
    {
     "output_type": "execute_result",
     "data": {
      "text/plain": "   user_id      time\n0       11  0.983869\n1       22  0.983956\n2       44  0.983924\n3       55  0.983953\n4       66  0.983895",
      "text/html": "<div>\n<style scoped>\n    .dataframe tbody tr th:only-of-type {\n        vertical-align: middle;\n    }\n\n    .dataframe tbody tr th {\n        vertical-align: top;\n    }\n\n    .dataframe thead th {\n        text-align: right;\n    }\n</style>\n<table border=\"1\" class=\"dataframe\">\n  <thead>\n    <tr style=\"text-align: right;\">\n      <th></th>\n      <th>user_id</th>\n      <th>time</th>\n    </tr>\n  </thead>\n  <tbody>\n    <tr>\n      <th>0</th>\n      <td>11</td>\n      <td>0.983869</td>\n    </tr>\n    <tr>\n      <th>1</th>\n      <td>22</td>\n      <td>0.983956</td>\n    </tr>\n    <tr>\n      <th>2</th>\n      <td>44</td>\n      <td>0.983924</td>\n    </tr>\n    <tr>\n      <th>3</th>\n      <td>55</td>\n      <td>0.983953</td>\n    </tr>\n    <tr>\n      <th>4</th>\n      <td>66</td>\n      <td>0.983895</td>\n    </tr>\n  </tbody>\n</table>\n</div>"
     },
     "metadata": {},
     "execution_count": 2
    }
   ],
   "source": [
    "test_qtime_T.head()"
   ]
  },
  {
   "cell_type": "code",
   "execution_count": 11,
   "metadata": {},
   "outputs": [
    {
     "output_type": "execute_result",
     "data": {
      "text/plain": "         user_id  item_id      time\n0           4965       18  0.983763\n1          20192       34  0.983772\n2          30128       91  0.983780\n3          29473      189  0.983930\n4          10625      225  0.983925\n...          ...      ...       ...\n1084190    34323   116409  0.983952\n1084191    23433   116550  0.984105\n1084192    11751   116908  0.984015\n1084193    12565   117502  0.984052\n1084194      454   117507  0.984118\n\n[1084195 rows x 3 columns]",
      "text/html": "<div>\n<style scoped>\n    .dataframe tbody tr th:only-of-type {\n        vertical-align: middle;\n    }\n\n    .dataframe tbody tr th {\n        vertical-align: top;\n    }\n\n    .dataframe thead th {\n        text-align: right;\n    }\n</style>\n<table border=\"1\" class=\"dataframe\">\n  <thead>\n    <tr style=\"text-align: right;\">\n      <th></th>\n      <th>user_id</th>\n      <th>item_id</th>\n      <th>time</th>\n    </tr>\n  </thead>\n  <tbody>\n    <tr>\n      <th>0</th>\n      <td>4965</td>\n      <td>18</td>\n      <td>0.983763</td>\n    </tr>\n    <tr>\n      <th>1</th>\n      <td>20192</td>\n      <td>34</td>\n      <td>0.983772</td>\n    </tr>\n    <tr>\n      <th>2</th>\n      <td>30128</td>\n      <td>91</td>\n      <td>0.983780</td>\n    </tr>\n    <tr>\n      <th>3</th>\n      <td>29473</td>\n      <td>189</td>\n      <td>0.983930</td>\n    </tr>\n    <tr>\n      <th>4</th>\n      <td>10625</td>\n      <td>225</td>\n      <td>0.983925</td>\n    </tr>\n    <tr>\n      <th>...</th>\n      <td>...</td>\n      <td>...</td>\n      <td>...</td>\n    </tr>\n    <tr>\n      <th>1084190</th>\n      <td>34323</td>\n      <td>116409</td>\n      <td>0.983952</td>\n    </tr>\n    <tr>\n      <th>1084191</th>\n      <td>23433</td>\n      <td>116550</td>\n      <td>0.984105</td>\n    </tr>\n    <tr>\n      <th>1084192</th>\n      <td>11751</td>\n      <td>116908</td>\n      <td>0.984015</td>\n    </tr>\n    <tr>\n      <th>1084193</th>\n      <td>12565</td>\n      <td>117502</td>\n      <td>0.984052</td>\n    </tr>\n    <tr>\n      <th>1084194</th>\n      <td>454</td>\n      <td>117507</td>\n      <td>0.984118</td>\n    </tr>\n  </tbody>\n</table>\n<p>1084195 rows × 3 columns</p>\n</div>"
     },
     "metadata": {},
     "execution_count": 11
    }
   ],
   "source": [
    "whole_dataset = pd.concat([train_click_T,test_click_T]).reset_index(drop=True)\n",
    "whole_dataset"
   ]
  },
  {
   "cell_type": "code",
   "execution_count": 23,
   "metadata": {},
   "outputs": [
    {
     "output_type": "stream",
     "name": "stderr",
     "text": "100%|██████████| 6754/6754 [01:10<00:00, 96.07it/s]\n"
    }
   ],
   "source": [
    "import tqdm\n",
    "\n",
    "test_semi = pd.DataFrame(columns=['user_id','pre2','pre1'])\n",
    "\n",
    "for row in tqdm.tqdm(range(test_qtime_T.shape[0])):\n",
    "\n",
    "    user_id = test_qtime_T.iloc[row,0]\n",
    "    time = test_qtime_T.iloc[row,1]\n",
    "\n",
    "    pre2 = whole_dataset[(whole_dataset['user_id'] == user_id) & (whole_dataset['time'] <= time)].iloc[-2,1]\n",
    "    pre1 = whole_dataset[(whole_dataset['user_id'] == user_id) & (whole_dataset['time'] <= time)].iloc[-1,1]\n",
    "\n",
    "    test_semi.loc[row,'user_id'] = user_id\n",
    "    test_semi.loc[row,'pre2']    = pre2\n",
    "    test_semi.loc[row,'pre1']    = pre1"
   ]
  },
  {
   "cell_type": "code",
   "execution_count": 24,
   "metadata": {},
   "outputs": [
    {
     "output_type": "execute_result",
     "data": {
      "text/plain": "True"
     },
     "metadata": {},
     "execution_count": 24
    }
   ],
   "source": [
    "test_semi.shape[0] == test_qtime_T.shape[0]"
   ]
  },
  {
   "cell_type": "code",
   "execution_count": 26,
   "metadata": {},
   "outputs": [],
   "source": [
    "test_semi.to_csv('test-semi.csv',index=False)"
   ]
  },
  {
   "cell_type": "code",
   "execution_count": null,
   "metadata": {},
   "outputs": [],
   "source": []
  }
 ],
 "metadata": {
  "language_info": {
   "codemirror_mode": {
    "name": "ipython",
    "version": 3
   },
   "file_extension": ".py",
   "mimetype": "text/x-python",
   "name": "python",
   "nbconvert_exporter": "python",
   "pygments_lexer": "ipython3",
   "version": "3.7.6-final"
  },
  "orig_nbformat": 2,
  "kernelspec": {
   "name": "python3",
   "display_name": "Python 3"
  }
 },
 "nbformat": 4,
 "nbformat_minor": 2
}