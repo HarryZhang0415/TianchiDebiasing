{
 "cells": [
  {
   "cell_type": "code",
   "execution_count": 1,
   "metadata": {},
   "outputs": [],
   "source": [
    "import pandas as pd\n",
    "import numpy as np"
   ]
  },
  {
   "cell_type": "code",
   "execution_count": 2,
   "metadata": {},
   "outputs": [],
   "source": [
    "training_data_path = '../data/underexpose_train/'\n",
    "underexpose_item_feat = 'underexpose_item_feat.csv'\n",
    "underexpose_user_feat = 'underexpose_user_feat.csv'\n",
    "\n",
    "testing_data_path = '../data/underexpose_test/'"
   ]
  },
  {
   "cell_type": "code",
   "execution_count": 3,
   "metadata": {},
   "outputs": [],
   "source": [
    "col_item = ['item_id', 'txt_vec', 'img_vec']\n",
    "col_user = ['user_id', 'user_age_level', 'user_gender', 'user_city_level']\n",
    "\n",
    "underexpose_item_feat = pd.read_csv(training_data_path+underexpose_item_feat, header=None)\n",
    "underexpose_user_feat = pd.read_csv(training_data_path+underexpose_user_feat, header=None)"
   ]
  },
  {
   "cell_type": "code",
   "execution_count": 4,
   "metadata": {},
   "outputs": [
    {
     "output_type": "execute_result",
     "data": {
      "text/plain": "(108916, 257)"
     },
     "metadata": {},
     "execution_count": 4
    }
   ],
   "source": [
    "underexpose_item_feat.shape"
   ]
  },
  {
   "cell_type": "code",
   "execution_count": 5,
   "metadata": {},
   "outputs": [
    {
     "output_type": "execute_result",
     "data": {
      "text/plain": "         user_age_level user_gender  user_city_level\nuser_id                                             \n17                  8.0           M              4.0\n26                  7.0           M              2.0\n35                  6.0           F              4.0\n40                  6.0           M              1.0\n49                  6.0           M              1.0",
      "text/html": "<div>\n<style scoped>\n    .dataframe tbody tr th:only-of-type {\n        vertical-align: middle;\n    }\n\n    .dataframe tbody tr th {\n        vertical-align: top;\n    }\n\n    .dataframe thead th {\n        text-align: right;\n    }\n</style>\n<table border=\"1\" class=\"dataframe\">\n  <thead>\n    <tr style=\"text-align: right;\">\n      <th></th>\n      <th>user_age_level</th>\n      <th>user_gender</th>\n      <th>user_city_level</th>\n    </tr>\n    <tr>\n      <th>user_id</th>\n      <th></th>\n      <th></th>\n      <th></th>\n    </tr>\n  </thead>\n  <tbody>\n    <tr>\n      <th>17</th>\n      <td>8.0</td>\n      <td>M</td>\n      <td>4.0</td>\n    </tr>\n    <tr>\n      <th>26</th>\n      <td>7.0</td>\n      <td>M</td>\n      <td>2.0</td>\n    </tr>\n    <tr>\n      <th>35</th>\n      <td>6.0</td>\n      <td>F</td>\n      <td>4.0</td>\n    </tr>\n    <tr>\n      <th>40</th>\n      <td>6.0</td>\n      <td>M</td>\n      <td>1.0</td>\n    </tr>\n    <tr>\n      <th>49</th>\n      <td>6.0</td>\n      <td>M</td>\n      <td>1.0</td>\n    </tr>\n  </tbody>\n</table>\n</div>"
     },
     "metadata": {},
     "execution_count": 5
    }
   ],
   "source": [
    "#set uder id to be the index\n",
    "underexpose_user_feat.columns = col_user\n",
    "underexpose_user_feat = underexpose_user_feat.set_index('user_id')\n",
    "underexpose_user_feat.head()"
   ]
  },
  {
   "cell_type": "code",
   "execution_count": 6,
   "metadata": {},
   "outputs": [],
   "source": [
    "# delete all '#' from the data\n",
    "\n",
    "underexpose_item_feat[1] = underexpose_item_feat[1].apply(lambda x: np.float64(x[1:]))\n",
    "underexpose_item_feat[128] = underexpose_item_feat[128].apply(lambda x: np.float64(x[:-1]))\n",
    "underexpose_item_feat[129] = underexpose_item_feat[129].apply(lambda x: np.float64(x[1:]))\n",
    "underexpose_item_feat[256] = underexpose_item_feat[256].apply(lambda x: np.float64(x[:-1]))"
   ]
  },
  {
   "cell_type": "code",
   "execution_count": 7,
   "metadata": {},
   "outputs": [
    {
     "output_type": "execute_result",
     "data": {
      "text/plain": "0        int64\n1      float64\n2      float64\n3      float64\n4      float64\n        ...   \n252    float64\n253    float64\n254    float64\n255    float64\n256    float64\nLength: 257, dtype: object"
     },
     "metadata": {},
     "execution_count": 7
    }
   ],
   "source": [
    "underexpose_item_feat.dtypes"
   ]
  },
  {
   "cell_type": "code",
   "execution_count": 15,
   "metadata": {},
   "outputs": [],
   "source": [
    "def encode(gender):\n",
    "    if gender == 'F':\n",
    "        return 1\n",
    "    else:\n",
    "        return 0\n",
    "\n",
    "underexpose_user_feat['user_gender'] = underexpose_user_feat['user_gender'].apply(encode)"
   ]
  },
  {
   "cell_type": "code",
   "execution_count": 17,
   "metadata": {},
   "outputs": [
    {
     "output_type": "execute_result",
     "data": {
      "text/plain": "     0         1         2         3         4         5         6    \\\n0  42844  4.514945 -2.383720  0.500414  0.407068 -1.995229  0.109078   \n1  67898 -2.002905 -0.929881  0.790017 -1.380895 -0.510463 -1.810096   \n2  66446  4.221673 -1.497139  1.133570 -2.745607 -4.197045 -0.542392   \n3  63651  2.657970 -0.941863  1.121529 -5.109496 -0.279041 -0.351968   \n4  46824  3.192195 -1.936676  1.199909 -2.562152 -2.573456  0.575841   \n\n        7         8         9    ...       247       248       249       250  \\\n0 -0.691775  2.227460 -6.437974  ... -3.374727 -1.506969 -1.820180 -3.024644   \n1  1.363962  0.497401 -4.038903  ... -0.538330 -2.620164  1.277195  0.601015   \n2 -1.396256  1.838419 -6.066454  ... -4.582711 -1.056910 -2.568084 -2.038061   \n3 -1.086983  2.703607 -6.494977  ... -0.487683 -1.889119  0.943015 -2.834418   \n4 -2.358653  1.620844 -4.302936  ... -0.621475 -2.091410  0.501600 -3.083864   \n\n        251       252       253       254       255       256  \n0  0.445263  0.013933 -1.300239  2.759948  2.056171  0.508703  \n1 -0.345312  0.993457  1.351633  2.162675  2.768597 -0.937197  \n2  2.508719 -0.764789 -0.657116  3.252782  2.687366  0.844332  \n3  1.633184  2.001801 -2.333152  2.645595  2.280233 -0.694448  \n4 -1.060091  2.053600 -2.025008  2.399251  2.562317  0.694134  \n\n[5 rows x 257 columns]",
      "text/html": "<div>\n<style scoped>\n    .dataframe tbody tr th:only-of-type {\n        vertical-align: middle;\n    }\n\n    .dataframe tbody tr th {\n        vertical-align: top;\n    }\n\n    .dataframe thead th {\n        text-align: right;\n    }\n</style>\n<table border=\"1\" class=\"dataframe\">\n  <thead>\n    <tr style=\"text-align: right;\">\n      <th></th>\n      <th>0</th>\n      <th>1</th>\n      <th>2</th>\n      <th>3</th>\n      <th>4</th>\n      <th>5</th>\n      <th>6</th>\n      <th>7</th>\n      <th>8</th>\n      <th>9</th>\n      <th>...</th>\n      <th>247</th>\n      <th>248</th>\n      <th>249</th>\n      <th>250</th>\n      <th>251</th>\n      <th>252</th>\n      <th>253</th>\n      <th>254</th>\n      <th>255</th>\n      <th>256</th>\n    </tr>\n  </thead>\n  <tbody>\n    <tr>\n      <th>0</th>\n      <td>42844</td>\n      <td>4.514945</td>\n      <td>-2.383720</td>\n      <td>0.500414</td>\n      <td>0.407068</td>\n      <td>-1.995229</td>\n      <td>0.109078</td>\n      <td>-0.691775</td>\n      <td>2.227460</td>\n      <td>-6.437974</td>\n      <td>...</td>\n      <td>-3.374727</td>\n      <td>-1.506969</td>\n      <td>-1.820180</td>\n      <td>-3.024644</td>\n      <td>0.445263</td>\n      <td>0.013933</td>\n      <td>-1.300239</td>\n      <td>2.759948</td>\n      <td>2.056171</td>\n      <td>0.508703</td>\n    </tr>\n    <tr>\n      <th>1</th>\n      <td>67898</td>\n      <td>-2.002905</td>\n      <td>-0.929881</td>\n      <td>0.790017</td>\n      <td>-1.380895</td>\n      <td>-0.510463</td>\n      <td>-1.810096</td>\n      <td>1.363962</td>\n      <td>0.497401</td>\n      <td>-4.038903</td>\n      <td>...</td>\n      <td>-0.538330</td>\n      <td>-2.620164</td>\n      <td>1.277195</td>\n      <td>0.601015</td>\n      <td>-0.345312</td>\n      <td>0.993457</td>\n      <td>1.351633</td>\n      <td>2.162675</td>\n      <td>2.768597</td>\n      <td>-0.937197</td>\n    </tr>\n    <tr>\n      <th>2</th>\n      <td>66446</td>\n      <td>4.221673</td>\n      <td>-1.497139</td>\n      <td>1.133570</td>\n      <td>-2.745607</td>\n      <td>-4.197045</td>\n      <td>-0.542392</td>\n      <td>-1.396256</td>\n      <td>1.838419</td>\n      <td>-6.066454</td>\n      <td>...</td>\n      <td>-4.582711</td>\n      <td>-1.056910</td>\n      <td>-2.568084</td>\n      <td>-2.038061</td>\n      <td>2.508719</td>\n      <td>-0.764789</td>\n      <td>-0.657116</td>\n      <td>3.252782</td>\n      <td>2.687366</td>\n      <td>0.844332</td>\n    </tr>\n    <tr>\n      <th>3</th>\n      <td>63651</td>\n      <td>2.657970</td>\n      <td>-0.941863</td>\n      <td>1.121529</td>\n      <td>-5.109496</td>\n      <td>-0.279041</td>\n      <td>-0.351968</td>\n      <td>-1.086983</td>\n      <td>2.703607</td>\n      <td>-6.494977</td>\n      <td>...</td>\n      <td>-0.487683</td>\n      <td>-1.889119</td>\n      <td>0.943015</td>\n      <td>-2.834418</td>\n      <td>1.633184</td>\n      <td>2.001801</td>\n      <td>-2.333152</td>\n      <td>2.645595</td>\n      <td>2.280233</td>\n      <td>-0.694448</td>\n    </tr>\n    <tr>\n      <th>4</th>\n      <td>46824</td>\n      <td>3.192195</td>\n      <td>-1.936676</td>\n      <td>1.199909</td>\n      <td>-2.562152</td>\n      <td>-2.573456</td>\n      <td>0.575841</td>\n      <td>-2.358653</td>\n      <td>1.620844</td>\n      <td>-4.302936</td>\n      <td>...</td>\n      <td>-0.621475</td>\n      <td>-2.091410</td>\n      <td>0.501600</td>\n      <td>-3.083864</td>\n      <td>-1.060091</td>\n      <td>2.053600</td>\n      <td>-2.025008</td>\n      <td>2.399251</td>\n      <td>2.562317</td>\n      <td>0.694134</td>\n    </tr>\n  </tbody>\n</table>\n<p>5 rows × 257 columns</p>\n</div>"
     },
     "metadata": {},
     "execution_count": 17
    }
   ],
   "source": [
    "underexpose_item_feat.head()"
   ]
  },
  {
   "cell_type": "code",
   "execution_count": 9,
   "metadata": {},
   "outputs": [],
   "source": [
    "underexpose_item_feat.to_csv('underexpose_item_feat.csv',index=False)"
   ]
  },
  {
   "cell_type": "code",
   "execution_count": 16,
   "metadata": {},
   "outputs": [],
   "source": [
    "underexpose_user_feat.to_csv('underexpose_user_feat.csv')"
   ]
  },
  {
   "cell_type": "code",
   "execution_count": null,
   "metadata": {},
   "outputs": [],
   "source": []
  }
 ],
 "metadata": {
  "kernelspec": {
   "display_name": "Python 3",
   "language": "python",
   "name": "python3"
  },
  "language_info": {
   "codemirror_mode": {
    "name": "ipython",
    "version": 3
   },
   "file_extension": ".py",
   "mimetype": "text/x-python",
   "name": "python",
   "nbconvert_exporter": "python",
   "pygments_lexer": "ipython3",
   "version": "3.7.6-final"
  }
 },
 "nbformat": 4,
 "nbformat_minor": 4
}